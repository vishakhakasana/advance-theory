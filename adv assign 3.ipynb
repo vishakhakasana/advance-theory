{
 "cells": [
  {
   "cell_type": "code",
   "execution_count": null,
   "id": "e1810598",
   "metadata": {},
   "outputs": [],
   "source": [
    "#  What is the concept of an abstract superclass?\n",
    "A class is called an Abstract class if it contains one or more abstract methods. An abstract method is a method that is declared, but contains no implementation. Abstract classes may not be instantiated, and its abstract methods must be implemented by its subclasses."
   ]
  },
  {
   "cell_type": "code",
   "execution_count": 1,
   "id": "6baac68f",
   "metadata": {},
   "outputs": [
    {
     "name": "stdout",
     "output_type": "stream",
     "text": [
      "area:  200\n"
     ]
    }
   ],
   "source": [
    "import abc\n",
    "\n",
    "class Shape(metaclass=abc.ABCMeta):\n",
    "    @abc.abstractmethod\n",
    "    def area(self):\n",
    "        pass\n",
    "\n",
    "class Rectangle(Shape):\n",
    "    def __init__(self, x,y):\n",
    "        self.l = x\n",
    "        self.b=y\n",
    "    \n",
    "    def area(self):\n",
    "        return self.l*self.b\n",
    "    \n",
    "r = Rectangle(10,20)\n",
    "print ('area: ',r.area())"
   ]
  },
  {
   "cell_type": "code",
   "execution_count": null,
   "id": "56428344",
   "metadata": {},
   "outputs": [],
   "source": [
    "# What happens when a class statement's top level contains a basic assignment statement?\n",
    "    When class statement's top level contains a basic assignment statement, it is considered as class attribute. Change in the value of class attribute will affect all the instances of the class."
   ]
  },
  {
   "cell_type": "code",
   "execution_count": 2,
   "id": "8cb37526",
   "metadata": {},
   "outputs": [
    {
     "name": "stdout",
     "output_type": "stream",
     "text": [
      "1234\n",
      "2\n",
      "3\n",
      "567\n",
      "567\n"
     ]
    }
   ],
   "source": [
    "class Sample:\n",
    "    some_value = 1234\n",
    "    \n",
    "    def __init__(self, value1):\n",
    "        self.value1 = value1\n",
    "        \n",
    "s = Sample(2)       \n",
    "s1 = Sample(3)\n",
    "\n",
    "print(s.some_value)\n",
    "print(s.value1)\n",
    "print(s1.value1)\n",
    "\n",
    "Sample.some_value = 567\n",
    "print(s.some_value) #observe value is changed for both the objects\n",
    "print(s1.some_value)"
   ]
  },
  {
   "cell_type": "code",
   "execution_count": null,
   "id": "6c38893f",
   "metadata": {},
   "outputs": [],
   "source": [
    "# Why does a class need to manually call a superclass's init method?\n",
    "By doing so,we can access those methods of the super-class (parent class) which have been overridden in a sub-class (child class) that inherits from it."
   ]
  },
  {
   "cell_type": "code",
   "execution_count": null,
   "id": "ab2557dd",
   "metadata": {},
   "outputs": [],
   "source": [
    "# How can you augment, instead of completely replacing, an inherited method?\n",
    "The way to do that in Python is by calling to the original version directly, with augmented arguments."
   ]
  },
  {
   "cell_type": "code",
   "execution_count": null,
   "id": "db453f60",
   "metadata": {},
   "outputs": [],
   "source": [
    "# How is the local scope of a class different from that of a function?\n",
    "In class, if the variable is declared without self then it is accessible within that function only, kinda local variable. However if it declared using self like self.variable_name = 'somevalue', then it is accessible via any object but not via the class name.\n",
    "\n",
    "Whereas, if a variable is declared within a function then it is a local variable and is accessible to that function only."
   ]
  }
 ],
 "metadata": {
  "kernelspec": {
   "display_name": "Python 3 (ipykernel)",
   "language": "python",
   "name": "python3"
  },
  "language_info": {
   "codemirror_mode": {
    "name": "ipython",
    "version": 3
   },
   "file_extension": ".py",
   "mimetype": "text/x-python",
   "name": "python",
   "nbconvert_exporter": "python",
   "pygments_lexer": "ipython3",
   "version": "3.9.7"
  }
 },
 "nbformat": 4,
 "nbformat_minor": 5
}
