{
 "cells": [
  {
   "cell_type": "code",
   "execution_count": null,
   "id": "76f4e071",
   "metadata": {},
   "outputs": [],
   "source": [
    "# What is the purpose of the try statement?\n",
    "Try statement is used to trigger exception. \n",
    "If code in try block causes some run time error, then try will throw an exception. Exception is caught by except block."
   ]
  },
  {
   "cell_type": "code",
   "execution_count": null,
   "id": "4512bcf5",
   "metadata": {},
   "outputs": [],
   "source": [
    "#  What are the two most popular try statement variations?\n",
    "IOError – It occurs on errors like a file fails to open. ImportError – If a python module can’t be loaded or located. \n",
    "KeyboardInterrupt : when an unrequired key is pressed by the user ValueError : \n",
    "        when built-in function receives a wrong argument EOFError : if End-Of-File is hit without reading any data\n",
    "\n",
    "How try() works?\n",
    "\n",
    "First, try clause is executed i.e. the code between try and except clause. If there is no exception, \n",
    "then only try clause will run, except clause is finished. If any exception occured,\n",
    "try clause will be skipped and except clause will run. If any exception occurs,\n",
    "but the except clause within the code doesn’t handle it, it is passed on to the outer try statements.\n",
    "If the exception left unhandled, then the execution stops. A try statement can have more than one except clause"
   ]
  },
  {
   "cell_type": "code",
   "execution_count": null,
   "id": "057b9411",
   "metadata": {},
   "outputs": [],
   "source": [
    "# What is the purpose of the raise statement?\n",
    "raise statement is used to raise an exception. You can define what kind of error to raise."
   ]
  },
  {
   "cell_type": "code",
   "execution_count": null,
   "id": "f18f1342",
   "metadata": {},
   "outputs": [],
   "source": [
    "#  What does the assert statement do, and what other statement is it like?\n",
    "The assert statement lets you test if a condition in your code returns True, if not, \n",
    "the program will raise an AssertionError. It is like raise statement, where we can create our custom exceptions."
   ]
  },
  {
   "cell_type": "code",
   "execution_count": null,
   "id": "73eb17ec",
   "metadata": {},
   "outputs": [],
   "source": [
    "# What is the purpose of the with/as argument, and what other statement is it like?\n",
    "with statement in Python is used in exception handling to make the code cleaner and much more readable. \n",
    "It simplifies the management of common resources like file streams. \n",
    "The with statement itself ensures proper acquisition and release of resources. \n",
    "This allows common try…except…finally usage patterns to be encapsulated for convenient reuse.\n",
    "\n",
    "when \"as\" is used after \"with\", it will reassign the the returned object to a new identifier."
   ]
  }
 ],
 "metadata": {
  "kernelspec": {
   "display_name": "Python 3 (ipykernel)",
   "language": "python",
   "name": "python3"
  },
  "language_info": {
   "codemirror_mode": {
    "name": "ipython",
    "version": 3
   },
   "file_extension": ".py",
   "mimetype": "text/x-python",
   "name": "python",
   "nbconvert_exporter": "python",
   "pygments_lexer": "ipython3",
   "version": "3.9.7"
  }
 },
 "nbformat": 4,
 "nbformat_minor": 5
}
