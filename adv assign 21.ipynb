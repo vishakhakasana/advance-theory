{
 "cells": [
  {
   "cell_type": "code",
   "execution_count": null,
   "id": "e46c20d1",
   "metadata": {},
   "outputs": [],
   "source": [
    "# What is a probability distribution, exactly? If the values are meant to be random, how can you predict them at all?\n",
    "# Ans : A probability distribution describes how a random variable is distributed,it tells us which values a random \n",
    "#       variable is most likely to take on and which values are less likely.Based on the previous data and the \n",
    "#       occurences of the random event, we can predict the outcome in terms of probabilities."
   ]
  },
  {
   "cell_type": "code",
   "execution_count": null,
   "id": "c8c949ec",
   "metadata": {},
   "outputs": [],
   "source": [
    "# Is there a distinction between true random numbers and pseudo-random numbers, if there is one? Why are the latter considered “good enough”?\n",
    "# Ans : The difference between true random number(TRN) and pseudo-random number(PRN), is that TRN's are unpredictable \n",
    "#       physical values means (like atmospheric noise), and PRN are generated using mathematical algorithms (completely\n",
    "#       computer-generated).The PRN's are good enough as they follow a uniform distribution and the seed for generating\n",
    "#       PRN is unpredictable and unknown."
   ]
  },
  {
   "cell_type": "code",
   "execution_count": null,
   "id": "43c2c2c6",
   "metadata": {},
   "outputs": [],
   "source": [
    "# What are the two main factors that influence the behaviour of a \"normal\" probability distribution?\n",
    "# Ans : A normal distribution is determined by two parameters the mean and the variance. A normal distribution with a \n",
    "#       mean of 0 and a standard deviation of 1 is called a standard normal distribution."
   ]
  },
  {
   "cell_type": "code",
   "execution_count": null,
   "id": "1307f6d8",
   "metadata": {},
   "outputs": [],
   "source": [
    "# Provide a real-life example of a normal distribution.\n",
    "# Ans : A fair rolling of dice is also a good example of normal distribution."
   ]
  },
  {
   "cell_type": "code",
   "execution_count": null,
   "id": "e9693c71",
   "metadata": {},
   "outputs": [],
   "source": [
    "# In the short term, how can you expect a probability distribution to behave? What do you think will happen as the number of trials grows?\n",
    "# Ans : When trails are less, the variance will large. As the number of trials increase , the variance will reduce."
   ]
  },
  {
   "cell_type": "code",
   "execution_count": null,
   "id": "40c92347",
   "metadata": {},
   "outputs": [],
   "source": [
    "# What kind of object can be shuffled by using random.shuffle?\n",
    "# Ans : random.shuffle can used to shuffle list object"
   ]
  },
  {
   "cell_type": "code",
   "execution_count": null,
   "id": "b91ffa74",
   "metadata": {},
   "outputs": [],
   "source": [
    "# Describe the math package's general categories of functions.\n",
    "# Ans : The general categories of math package are\n",
    "#       1) Trigonometric functions\n",
    "#       2)Quadratic functions\n",
    "#       3)Exponential functions\n",
    "#       4)Hyperbolic functions\n",
    "#       5)Periodic functions\n",
    "#       6)Arithmetic functions\n",
    "#       7)Logarithimic functions\n",
    "#       8)Conversions to Integer"
   ]
  },
  {
   "cell_type": "code",
   "execution_count": null,
   "id": "5197ca89",
   "metadata": {},
   "outputs": [],
   "source": [
    "# What is the relationship between exponentiation and logarithms?\n",
    "# Ans : The exponential function is given by ƒ(x) = ex, whereas the logarithmic function is given by g(x) = ln x, and \n",
    "#       former is the inverse of the latter."
   ]
  },
  {
   "cell_type": "code",
   "execution_count": null,
   "id": "87555d12",
   "metadata": {},
   "outputs": [],
   "source": [
    "# What are the three logarithmic functions that Python supports?\n",
    "# Ans : 1)log2(x) - logarithmic value of x to base 2\n",
    "#       2)log10(x) - logarithmic value of x to base 10\n",
    "#       3)log(x,base) - logarithmic value of x to base. If only first parameter is given , it computes its\n",
    "#       value tp base e,natural logarithm\n",
    "#       4)log1p(x) - natural logarithm (base e) value of 1+x"
   ]
  }
 ],
 "metadata": {
  "kernelspec": {
   "display_name": "Python 3 (ipykernel)",
   "language": "python",
   "name": "python3"
  },
  "language_info": {
   "codemirror_mode": {
    "name": "ipython",
    "version": 3
   },
   "file_extension": ".py",
   "mimetype": "text/x-python",
   "name": "python",
   "nbconvert_exporter": "python",
   "pygments_lexer": "ipython3",
   "version": "3.9.7"
  }
 },
 "nbformat": 4,
 "nbformat_minor": 5
}
