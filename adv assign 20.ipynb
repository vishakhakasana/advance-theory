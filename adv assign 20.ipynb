{
 "cells": [
  {
   "cell_type": "code",
   "execution_count": null,
   "id": "688ed76f",
   "metadata": {},
   "outputs": [],
   "source": [
    "# Compare and contrast the float and Decimal classes' benefits and drawbacks.\n",
    "a = 0.35\n",
    "print(type(a))\n",
    "#       Float objects like this one are always represented internally up to a certain degree of accuracy only.\n",
    "#       This becomes evident when adding 0.1 to a:\n",
    "print(a+0.1)\n",
    "#       The reason for this is that floats are internally represented in binary format;\n",
    "#       that is, a decimal number 0 < n < 1 is represented by a series of the form . \n",
    "#       For certain floating-point numbers the binary representation might involve a large number \n",
    "#       of elements or might even be an infinite series. However, given a fixed number of bits used \n",
    "#       to represent such a number—i.e., a fixed number of terms in the representation \n",
    "#       series—inaccuracies are the consequence. Other numbers can be represented perfectly \n",
    "#       and are therefore stored exactly even with a finite number of bits available. \n",
    "#       Example is  :\n",
    "b=0.5 \n",
    "print(b.as_integer_ratio()) #i.e. 0.5 is exactly represented as 1/2\n",
    "#       incase of b=0.35\n",
    "b=0.35\n",
    "print(b.as_integer_ratio()) # Here teh b=0.35 is not exact\n",
    "#       The precision is dependent on the number of bits used to represent the number. \n",
    "#       Hence some error can creep in. It translates 15 digits accuracy for float.\n",
    "#       For example, the issue can be of importance when summing over a large set of numbers. \n",
    "#       In such a situation, a certain kind and/or magnitude of representation error might, \n",
    "#       in aggregate, lead to significant deviations from a benchmark value.\n",
    "#       In order to overcome this we use the decimal module.\n",
    "#       The module decimal provides an arbitrary-precision object for floating-point numbers \n",
    "#       and several options to address precision issues when working with such numbers:\n",
    "import decimal\n",
    "from decimal import Decimal\n",
    "print(decimal.getcontext())\n",
    "d = Decimal(1) / Decimal (55)\n",
    "print(\"d=\",d)\n",
    "decimal.getcontext().prec = 5  # lower precision \n",
    "e=Decimal(1)/Decimal(55)\n",
    "print(\"e=\",e)\n",
    "#       The precision can in this way be adjusted to the exact problem at hand and one can operate\n",
    "#       with floating-point objects that exhibit different degrees of accuracy."
   ]
  },
  {
   "cell_type": "code",
   "execution_count": 3,
   "id": "84dce4d5",
   "metadata": {},
   "outputs": [],
   "source": [
    "# Decimal('1.200') and Decimal('1.2') are two objects to consider. In what sense are these the same object? Are these just two ways of representing the exact same value, or do they correspond to different internal states?\n",
    " Ans : Though they are identical value wise, internal representation or internal state of these two \n",
    "       values are different, as they have decimal values of different precisions.\n",
    "\n"
   ]
  },
  {
   "cell_type": "code",
   "execution_count": 6,
   "id": "680a122c",
   "metadata": {},
   "outputs": [],
   "source": [
    "# What happens if the equality of Decimal('1.200') and Decimal('1.2') is checked?\n",
    " Ans : It returns that the values are stored are True."
   ]
  },
  {
   "cell_type": "code",
   "execution_count": null,
   "id": "3669fd33",
   "metadata": {},
   "outputs": [],
   "source": [
    "#  Why is it preferable to start a Decimal object with a string rather than a floating-point value?\n",
    " Ans : Floating-point value is converted to Decimal format. Decimal can store float value with absolute\n",
    "       precision. But when float value is given as Decimal object,it first has to be converted from \n",
    "       floating point value which might already have rounding error.\n",
    "       Hence it is preferable to start a Decimal object with a string."
   ]
  },
  {
   "cell_type": "code",
   "execution_count": 7,
   "id": "eb292927",
   "metadata": {},
   "outputs": [
    {
     "name": "stdout",
     "output_type": "stream",
     "text": [
      "0.299999999999999988897769753748434595763683319091796875\n",
      "0.3\n"
     ]
    }
   ],
   "source": [
    "import decimal\n",
    "from decimal import Decimal\n",
    "a=Decimal(0.3) \n",
    "print(a) \n",
    "b=Decimal('0.3') \n",
    "print(b) "
   ]
  },
  {
   "cell_type": "code",
   "execution_count": 8,
   "id": "69635c11",
   "metadata": {},
   "outputs": [
    {
     "name": "stdout",
     "output_type": "stream",
     "text": [
      "<class 'int'>\n",
      "2\n",
      "4\n"
     ]
    }
   ],
   "source": [
    "# In an arithmetic phrase, how simple is it to combine Decimal objects with integers?\n",
    "import decimal\n",
    "from decimal import Decimal\n",
    "val=2\n",
    "print(type(val))\n",
    "a=Decimal(val)\n",
    "print(a)\n",
    "b=a*Decimal(val)\n",
    "print(b)"
   ]
  },
  {
   "cell_type": "code",
   "execution_count": null,
   "id": "8778ab15",
   "metadata": {},
   "outputs": [],
   "source": [
    "# Can Decimal objects and floating-point values be combined easily?\n",
    " Ans : Arithmetic operfations like Adding,subtracting or multiplying a Decimal object by a floating-point value is \n",
    "       generates an error. To do these operations, the floating point has to be converted to a Decimal object—for \n",
    "       example, converting from a floating-point value and then rounding. Else, arithmetic operations between the two\n",
    "       types cause runtime errors."
   ]
  },
  {
   "cell_type": "code",
   "execution_count": 10,
   "id": "f620a7fe",
   "metadata": {},
   "outputs": [
    {
     "name": "stdout",
     "output_type": "stream",
     "text": [
      "1/2\n"
     ]
    }
   ],
   "source": [
    "# Using the Fraction class but not the Decimal class, give an example of a quantity that can be expressed with absolute precision.\n",
    "from fractions import Fraction\n",
    "val=0.5\n",
    "fr=Fraction(val)\n",
    "print(fr)"
   ]
  },
  {
   "cell_type": "code",
   "execution_count": 11,
   "id": "e204df1e",
   "metadata": {},
   "outputs": [
    {
     "name": "stdout",
     "output_type": "stream",
     "text": [
      "decimal= 0.01\n",
      "fraction= 1/100\n",
      "float value= 0.010000000000000002\n"
     ]
    }
   ],
   "source": [
    "# Describe a quantity that can be accurately expressed by the Decimal or Fraction classes but not by a floating-point value.\n",
    "d=Decimal('0.1') * Decimal('0.1')\n",
    "print(\"decimal=\",d)\n",
    "frac=Fraction('1/10') * Fraction('1/10')\n",
    "print(\"fraction=\",frac)\n",
    "fl=0.1*0.1\n",
    "print(\"float value=\",fl)"
   ]
  },
  {
   "cell_type": "code",
   "execution_count": 12,
   "id": "4f7a63cb",
   "metadata": {},
   "outputs": [
    {
     "name": "stdout",
     "output_type": "stream",
     "text": [
      "decimal= 0.01\n",
      "fraction= 1/100\n",
      "float value= 0.010000000000000002\n"
     ]
    }
   ],
   "source": [
    "# Describe a quantity that can be accurately expressed by the Decimal or Fraction classes but not by a floating-point value.\n",
    " \n",
    "d=Decimal('0.1') * Decimal('0.1')\n",
    "print(\"decimal=\",d)\n",
    "frac=Fraction('1/10') * Fraction('1/10')\n",
    "print(\"fraction=\",frac)\n",
    "fl=0.1*0.1\n",
    "print(\"float value=\",fl)"
   ]
  },
  {
   "cell_type": "code",
   "execution_count": 13,
   "id": "5d988cb6",
   "metadata": {},
   "outputs": [
    {
     "name": "stdout",
     "output_type": "stream",
     "text": [
      "numerator is 1 <class 'int'>\n",
      "denominator is 2 <class 'int'>\n"
     ]
    }
   ],
   "source": [
    "# How do the Fraction class and the integer type (int) relate to each other? Containment or inheritance?\n",
    "# Ans : Fraction class and integer type(int) are related in form of a container.\n",
    "# It contains two ints, one the numerator and the other the denominator.\n",
    "\n",
    "\n",
    "from fractions import Fraction\n",
    "\n",
    "frac = Fraction(1,2)\n",
    "print('numerator is', frac.numerator,type(frac.numerator))\n",
    "print('denominator is', frac.denominator,type(frac.numerator) )"
   ]
  }
 ],
 "metadata": {
  "kernelspec": {
   "display_name": "Python 3 (ipykernel)",
   "language": "python",
   "name": "python3"
  },
  "language_info": {
   "codemirror_mode": {
    "name": "ipython",
    "version": 3
   },
   "file_extension": ".py",
   "mimetype": "text/x-python",
   "name": "python",
   "nbconvert_exporter": "python",
   "pygments_lexer": "ipython3",
   "version": "3.9.7"
  }
 },
 "nbformat": 4,
 "nbformat_minor": 5
}
