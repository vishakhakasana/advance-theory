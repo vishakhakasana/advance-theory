{
 "cells": [
  {
   "cell_type": "code",
   "execution_count": null,
   "id": "891cff7a",
   "metadata": {},
   "outputs": [],
   "source": [
    "# Define the relationship between a class and its instances. Is it a one-to-one or a one-to-many partnership, for example?\n",
    " Ans : Class is abstraction of an real world entity. It consists of attributes and methods. Instance is an object of\n",
    "       a class. It one to many relationship between class and its instatnces."
   ]
  },
  {
   "cell_type": "code",
   "execution_count": null,
   "id": "b5716869",
   "metadata": {},
   "outputs": [],
   "source": [
    "# What kind of data is held only in an instance?\n",
    " Ans : Instance objects contains the Instance variables which are specific to that specific Instance object."
   ]
  },
  {
   "cell_type": "code",
   "execution_count": null,
   "id": "748ec941",
   "metadata": {},
   "outputs": [],
   "source": [
    "# What kind of knowledge is stored in a class?\n",
    " Ans : Class creates a user-defined data structure, which holds its own data members and member functions,which can be\n",
    "       accessed and used by creating an instance of that class. A class is like a blueprint for an object. "
   ]
  },
  {
   "cell_type": "code",
   "execution_count": null,
   "id": "b6092818",
   "metadata": {},
   "outputs": [],
   "source": [
    "# What exactly is a method, and how is it different from a regular function?\n",
    " Ans : The methods with a class can be used to access the insatnce variables of its instance. So, the object's state \n",
    "       can be modified by its method.Function cant access the attributes of an instance of a class or cant modify \n",
    "       the state of the object."
   ]
  },
  {
   "cell_type": "code",
   "execution_count": null,
   "id": "f1845ea8",
   "metadata": {},
   "outputs": [],
   "source": [
    "# Is inheritance supported in Python, and if so, what is the syntax?\n",
    " Ans : Inheritance is supported by python\n",
    "       Example of Inheritance:"
   ]
  },
  {
   "cell_type": "code",
   "execution_count": 1,
   "id": "bf1797ca",
   "metadata": {},
   "outputs": [
    {
     "name": "stdout",
     "output_type": "stream",
     "text": [
      "Class of Instance: <class '__main__.B'>\n",
      "Base class: (<class '__main__.A'>,)\n"
     ]
    }
   ],
   "source": [
    "class A:\n",
    "        var=1\n",
    "        def __init__(self):\n",
    "            pass\n",
    "class B(A): # class B is detived from class A\n",
    "    def __init__(self):\n",
    "        super().__init__()\n",
    "c=B()\n",
    "print(\"Class of Instance:\",c.__class__)\n",
    "print(\"Base class:\",c.__class__.__bases__)"
   ]
  },
  {
   "cell_type": "code",
   "execution_count": null,
   "id": "3d6e6502",
   "metadata": {},
   "outputs": [],
   "source": [
    "# How much encapsulation (making instance or class variables private) does Python support?\n",
    " Ans : Encapsulation prevents from accessing accidentally, but not intentionally. The private attributes and methods \n",
    "       are not really hidden. The private attributes can be accessed within the object method."
   ]
  },
  {
   "cell_type": "code",
   "execution_count": null,
   "id": "8e63ea7f",
   "metadata": {},
   "outputs": [],
   "source": [
    "#  How do you distinguish between a class variable and an instance variable?\n",
    " Ans : The class attribute is available to all the instance objects of that class. Instance variable is accessible \n",
    "       only to the object or Instance of that class."
   ]
  },
  {
   "cell_type": "code",
   "execution_count": null,
   "id": "d9092531",
   "metadata": {},
   "outputs": [],
   "source": [
    "#  When, if ever, can self be included in a class's method definitions?\n",
    " Ans : self can included to access the class variables and instance variiables."
   ]
  },
  {
   "cell_type": "code",
   "execution_count": null,
   "id": "1c4ae4bd",
   "metadata": {},
   "outputs": [],
   "source": [
    "# What is the difference between the _ add and the radd _ methods?\n",
    " Ans : When you add two numbers using the + operator, internally, the __add__() method will be called.We can overload\n",
    "       this method to perform"
   ]
  },
  {
   "cell_type": "code",
   "execution_count": null,
   "id": "bd19f9bc",
   "metadata": {},
   "outputs": [],
   "source": [
    "# When is it necessary to use a reflection method? When do you not need it, even though you support the operation in question?\n",
    " Ans : Suppose we are implementing a class that you want to act like a number via operator overloading.So we implement\n",
    "       __add__ in your class, and now expressions like obj + 10 is acceptable.This is because obj + 10 is interpreted\n",
    "       as obj.__add__(10), and the custom method __add__ can do whatever it means to add 10 to custom class.\n",
    "       However, what about an expression like 10 + obj which is really (10).__add__(myobj)? \n",
    "       The 10 is an instance of a Python built-in type and its __add__ method doesn't know anything \n",
    "       about the new type,obj, so it will return a error NotImplemented. \n",
    "       To handle such scenarios, __radd__ is used. Python will first try (10).__add__(myobj), \n",
    "       and if that returns NotImplemented, Python will check if the right-hand operand implements \n",
    "       __radd__, and if it does, it will call obj.__radd__(10) rather than raising a TypeError. "
   ]
  },
  {
   "cell_type": "code",
   "execution_count": 2,
   "id": "3f203147",
   "metadata": {},
   "outputs": [
    {
     "name": "stdout",
     "output_type": "stream",
     "text": [
      "5\n"
     ]
    }
   ],
   "source": [
    "#  What is the _ iadd _ method called?\n",
    "# Ans : __iadd__ method is called when we use implementation like a+=b which is a.__iadd__(b)\n",
    "class A:\n",
    "    def __init__(self,x):\n",
    "        self.x=x\n",
    "    def __iadd__(self,other):\n",
    "        self.x += other.x\n",
    "        return self.x\n",
    "obj1=A(2)\n",
    "obj2=A(3)\n",
    "obj1+=obj2\n",
    "print(obj1)"
   ]
  },
  {
   "cell_type": "code",
   "execution_count": 3,
   "id": "8a341908",
   "metadata": {},
   "outputs": [
    {
     "data": {
      "text/plain": [
       "7"
      ]
     },
     "execution_count": 3,
     "metadata": {},
     "output_type": "execute_result"
    }
   ],
   "source": [
    "#  Is the _ init _ method inherited by subclasses? What do you do if you need to customize its behavior within a subclass?\n",
    "# Ans : __init__ method is inherited by its subclass. But it can be overloaded, to customize it\n",
    "class A:\n",
    "    def __init__(self,x):\n",
    "        self.x=x\n",
    "class B(A):\n",
    "    pass\n",
    "obj=B(2)\n",
    "obj.x \n",
    "#        here the value x is accessible to instance of class B which is subclass of class A.This means\n",
    "#        __init__ of class A is inherited in sub class B\n",
    "class C(A):\n",
    "    def __init__(self,x,y): # Here we are overloading the __init__ inherited from class A \n",
    "        self.x=x\n",
    "        self.y=y\n",
    "    def func(self):\n",
    "        return(self.x + self.y)\n",
    "obj1=C(3,4)\n",
    "obj1.func()"
   ]
  }
 ],
 "metadata": {
  "kernelspec": {
   "display_name": "Python 3 (ipykernel)",
   "language": "python",
   "name": "python3"
  },
  "language_info": {
   "codemirror_mode": {
    "name": "ipython",
    "version": 3
   },
   "file_extension": ".py",
   "mimetype": "text/x-python",
   "name": "python",
   "nbconvert_exporter": "python",
   "pygments_lexer": "ipython3",
   "version": "3.9.7"
  }
 },
 "nbformat": 4,
 "nbformat_minor": 5
}
