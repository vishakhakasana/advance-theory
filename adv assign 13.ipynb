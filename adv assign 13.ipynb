{
 "cells": [
  {
   "cell_type": "code",
   "execution_count": null,
   "id": "8b6945ae",
   "metadata": {},
   "outputs": [],
   "source": [
    "# Can you create a programme or function that employs both positive and negative indexing? Is there any repercussion if you do so?\n",
    "Python supports negative indexing of an iterable object. We can access the elements of a object from the end by indexes starting from -1, -2, -3... There is no repercussion if we use either positive or negative indexing."
   ]
  },
  {
   "cell_type": "code",
   "execution_count": 1,
   "id": "ac57ce41",
   "metadata": {},
   "outputs": [
    {
     "name": "stdout",
     "output_type": "stream",
     "text": [
      "abcdefg\n",
      "e\n",
      "cdefg\n",
      "def\n",
      "[1, 2, 3, 4, 5, 6, 7]\n",
      "5\n",
      "[3, 4, 5, 6, 7]\n",
      "[4, 5, 6]\n"
     ]
    }
   ],
   "source": [
    "def indexing(data, typ):\n",
    "    if typ == 'positive':\n",
    "        print(data[0:])\n",
    "        print(data[4])\n",
    "        print(data[2:len(data)])\n",
    "        print(data[3:len(data)-1])\n",
    "    if typ == 'negative':\n",
    "        print(data[-2])\n",
    "        print(data[-1:0:-1])\n",
    "        print(data[-6:-2])\n",
    "        print(data[-3:-1])     \n",
    "    \n",
    "indexing(\"abcdefg\",'positive')\n",
    "indexing([1,2,3,4,5,6,7],'positive')    "
   ]
  },
  {
   "cell_type": "code",
   "execution_count": null,
   "id": "78221b02",
   "metadata": {},
   "outputs": [],
   "source": [
    "# What is the most effective way of starting with 1,000 elements in a Python list? Assume that all elements should be set to the same value.\n",
    "We can use * operator for this."
   ]
  },
  {
   "cell_type": "code",
   "execution_count": 2,
   "id": "501ef09d",
   "metadata": {},
   "outputs": [
    {
     "name": "stdout",
     "output_type": "stream",
     "text": [
      "Length of the list is:: 1000\n",
      "[12, 12, 12, 12, 12, 12, 12, 12, 12, 12, 12, 12, 12, 12, 12, 12, 12, 12, 12, 12, 12, 12, 12, 12, 12, 12, 12, 12, 12, 12, 12, 12, 12, 12, 12, 12, 12, 12, 12, 12, 12, 12, 12, 12, 12, 12, 12, 12, 12, 12, 12, 12, 12, 12, 12, 12, 12, 12, 12, 12, 12, 12, 12, 12, 12, 12, 12, 12, 12, 12, 12, 12, 12, 12, 12, 12, 12, 12, 12, 12, 12, 12, 12, 12, 12, 12, 12, 12, 12, 12, 12, 12, 12, 12, 12, 12, 12, 12, 12, 12, 12, 12, 12, 12, 12, 12, 12, 12, 12, 12, 12, 12, 12, 12, 12, 12, 12, 12, 12, 12, 12, 12, 12, 12, 12, 12, 12, 12, 12, 12, 12, 12, 12, 12, 12, 12, 12, 12, 12, 12, 12, 12, 12, 12, 12, 12, 12, 12, 12, 12, 12, 12, 12, 12, 12, 12, 12, 12, 12, 12, 12, 12, 12, 12, 12, 12, 12, 12, 12, 12, 12, 12, 12, 12, 12, 12, 12, 12, 12, 12, 12, 12, 12, 12, 12, 12, 12, 12, 12, 12, 12, 12, 12, 12, 12, 12, 12, 12, 12, 12, 12, 12, 12, 12, 12, 12, 12, 12, 12, 12, 12, 12, 12, 12, 12, 12, 12, 12, 12, 12, 12, 12, 12, 12, 12, 12, 12, 12, 12, 12, 12, 12, 12, 12, 12, 12, 12, 12, 12, 12, 12, 12, 12, 12, 12, 12, 12, 12, 12, 12, 12, 12, 12, 12, 12, 12, 12, 12, 12, 12, 12, 12, 12, 12, 12, 12, 12, 12, 12, 12, 12, 12, 12, 12, 12, 12, 12, 12, 12, 12, 12, 12, 12, 12, 12, 12, 12, 12, 12, 12, 12, 12, 12, 12, 12, 12, 12, 12, 12, 12, 12, 12, 12, 12, 12, 12, 12, 12, 12, 12, 12, 12, 12, 12, 12, 12, 12, 12, 12, 12, 12, 12, 12, 12, 12, 12, 12, 12, 12, 12, 12, 12, 12, 12, 12, 12, 12, 12, 12, 12, 12, 12, 12, 12, 12, 12, 12, 12, 12, 12, 12, 12, 12, 12, 12, 12, 12, 12, 12, 12, 12, 12, 12, 12, 12, 12, 12, 12, 12, 12, 12, 12, 12, 12, 12, 12, 12, 12, 12, 12, 12, 12, 12, 12, 12, 12, 12, 12, 12, 12, 12, 12, 12, 12, 12, 12, 12, 12, 12, 12, 12, 12, 12, 12, 12, 12, 12, 12, 12, 12, 12, 12, 12, 12, 12, 12, 12, 12, 12, 12, 12, 12, 12, 12, 12, 12, 12, 12, 12, 12, 12, 12, 12, 12, 12, 12, 12, 12, 12, 12, 12, 12, 12, 12, 12, 12, 12, 12, 12, 12, 12, 12, 12, 12, 12, 12, 12, 12, 12, 12, 12, 12, 12, 12, 12, 12, 12, 12, 12, 12, 12, 12, 12, 12, 12, 12, 12, 12, 12, 12, 12, 12, 12, 12, 12, 12, 12, 12, 12, 12, 12, 12, 12, 12, 12, 12, 12, 12, 12, 12, 12, 12, 12, 12, 12, 12, 12, 12, 12, 12, 12, 12, 12, 12, 12, 12, 12, 12, 12, 12, 12, 12, 12, 12, 12, 12, 12, 12, 12, 12, 12, 12, 12, 12, 12, 12, 12, 12, 12, 12, 12, 12, 12, 12, 12, 12, 12, 12, 12, 12, 12, 12, 12, 12, 12, 12, 12, 12, 12, 12, 12, 12, 12, 12, 12, 12, 12, 12, 12, 12, 12, 12, 12, 12, 12, 12, 12, 12, 12, 12, 12, 12, 12, 12, 12, 12, 12, 12, 12, 12, 12, 12, 12, 12, 12, 12, 12, 12, 12, 12, 12, 12, 12, 12, 12, 12, 12, 12, 12, 12, 12, 12, 12, 12, 12, 12, 12, 12, 12, 12, 12, 12, 12, 12, 12, 12, 12, 12, 12, 12, 12, 12, 12, 12, 12, 12, 12, 12, 12, 12, 12, 12, 12, 12, 12, 12, 12, 12, 12, 12, 12, 12, 12, 12, 12, 12, 12, 12, 12, 12, 12, 12, 12, 12, 12, 12, 12, 12, 12, 12, 12, 12, 12, 12, 12, 12, 12, 12, 12, 12, 12, 12, 12, 12, 12, 12, 12, 12, 12, 12, 12, 12, 12, 12, 12, 12, 12, 12, 12, 12, 12, 12, 12, 12, 12, 12, 12, 12, 12, 12, 12, 12, 12, 12, 12, 12, 12, 12, 12, 12, 12, 12, 12, 12, 12, 12, 12, 12, 12, 12, 12, 12, 12, 12, 12, 12, 12, 12, 12, 12, 12, 12, 12, 12, 12, 12, 12, 12, 12, 12, 12, 12, 12, 12, 12, 12, 12, 12, 12, 12, 12, 12, 12, 12, 12, 12, 12, 12, 12, 12, 12, 12, 12, 12, 12, 12, 12, 12, 12, 12, 12, 12, 12, 12, 12, 12, 12, 12, 12, 12, 12, 12, 12, 12, 12, 12, 12, 12, 12, 12, 12, 12, 12, 12, 12, 12, 12, 12, 12, 12, 12, 12, 12, 12, 12, 12, 12, 12, 12, 12, 12, 12, 12, 12, 12, 12, 12, 12, 12, 12, 12, 12, 12, 12, 12, 12, 12, 12, 12, 12, 12, 12, 12, 12, 12, 12, 12, 12, 12, 12, 12, 12, 12, 12, 12, 12, 12, 12, 12, 12, 12, 12, 12, 12, 12, 12, 12, 12, 12, 12, 12, 12, 12, 12, 12, 12, 12, 12, 12, 12, 12, 12, 12, 12, 12, 12, 12, 12, 12, 12, 12, 12, 12, 12, 12, 12, 12, 12, 12, 12, 12, 12, 12, 12, 12, 12, 12, 12, 12, 12, 12, 12, 12, 12, 12, 12, 12, 12, 12, 12, 12, 12, 12, 12, 12, 12, 12, 12, 12, 12, 12, 12, 12, 12, 12, 12, 12, 12, 12, 12, 12, 12, 12, 12, 12, 12, 12, 12, 12, 12, 12, 12, 12, 12, 12, 12, 12, 12, 12, 12, 12, 12, 12, 12, 12, 12, 12, 12, 12, 12, 12, 12, 12, 12, 12, 12, 12, 12, 12, 12, 12, 12, 12, 12, 12, 12, 12, 12, 12, 12, 12, 12, 12, 12, 12, 12, 12, 12, 12, 12]\n"
     ]
    }
   ],
   "source": [
    "my_list = [12] * 1000\n",
    "print(\"Length of the list is::\",len(my_list))\n",
    "print(my_list)"
   ]
  },
  {
   "cell_type": "code",
   "execution_count": null,
   "id": "6693ee30",
   "metadata": {},
   "outputs": [],
   "source": [
    "#  How do you slice a list to get any other part while missing the rest? (For example, suppose you want to make a new list with the elements first, third, fifth, seventh, and so on.)\n",
    "We use list slicing operations to acheive this."
   ]
  },
  {
   "cell_type": "code",
   "execution_count": 3,
   "id": "17749326",
   "metadata": {},
   "outputs": [
    {
     "name": "stdout",
     "output_type": "stream",
     "text": [
      "[2, 4, 6, 8, 10, 12]\n"
     ]
    }
   ],
   "source": [
    "my_list = [1,2,3,4,5,6,7,8,9,10,11,12]\n",
    "\n",
    "new_list = my_list[1:len(my_list):2]\n",
    "\n",
    "print(new_list)"
   ]
  },
  {
   "cell_type": "code",
   "execution_count": null,
   "id": "da4bebbc",
   "metadata": {},
   "outputs": [],
   "source": [
    "# Explain the distinctions between indexing and slicing.\n",
    "Indexing is the way of accessing a single element of the object by its index or position, where as, slicing enables us to access the sub parts of object. Slicing can be done using indexes."
   ]
  },
  {
   "cell_type": "code",
   "execution_count": 4,
   "id": "3fd03779",
   "metadata": {},
   "outputs": [
    {
     "name": "stdout",
     "output_type": "stream",
     "text": [
      "[2, 4, 6, 8, 10, 12]\n",
      "6\n"
     ]
    }
   ],
   "source": [
    "my_list = [1,2,3,4,5,6,7,8,9,10,11,12]\n",
    "\n",
    "new_list = my_list[1:len(my_list):2] # this is list sclicing.\n",
    "\n",
    "print(new_list)\n",
    "\n",
    "print(new_list[2]) # this is list indexing"
   ]
  },
  {
   "cell_type": "code",
   "execution_count": null,
   "id": "b2c3b5e5",
   "metadata": {},
   "outputs": [],
   "source": [
    "#  What happens if one of the slicing expression's indexes is out of range?\n",
    "The slicing operation doesn’t raise an error if one of the indices are out of range. This is in not in the case of indexing;if you index an element that is out of bounds, Python will throw an index out of bounds error. However, with slicing it simply returns an exisiting accessed elements. It stops accessing elements after the end of the object is reached."
   ]
  },
  {
   "cell_type": "code",
   "execution_count": 5,
   "id": "fab98541",
   "metadata": {},
   "outputs": [
    {
     "name": "stdout",
     "output_type": "stream",
     "text": [
      "[2, 4, 6, 8, 10, 12]\n"
     ]
    }
   ],
   "source": [
    "print(new_list[0:12])"
   ]
  },
  {
   "cell_type": "code",
   "execution_count": null,
   "id": "01d1f3a1",
   "metadata": {},
   "outputs": [],
   "source": [
    "# If you pass a list to a function, and if you want the function to be able to change the values of the list—so that the list is different after the function returns—what action should you avoid?\n",
    "We should avoid passing the list as an argument in the function by value. If we do so, it will point to different memory location and will not be able alter the list."
   ]
  },
  {
   "cell_type": "code",
   "execution_count": 6,
   "id": "3b4c42d2",
   "metadata": {},
   "outputs": [
    {
     "name": "stdout",
     "output_type": "stream",
     "text": [
      "Original list is [1, 2, 3, 4]\n",
      "Call by reference alters list to [1, 4, 9, 16]\n",
      "\n",
      " Original list is [1, 2, 3, 4]\n",
      "Before doing anything, list is:: [1, 2, 3, 4]\n",
      "After assigning new values, list is:: [100, 200, 300, 400, 500]\n",
      "After calling function, list is:: [1, 2, 3, 4]\n"
     ]
    }
   ],
   "source": [
    "def fun(l1):\n",
    "    for i in range(len(l1)):\n",
    "        l1[i] = l1[i]**2\n",
    "    return l1\n",
    "\n",
    "l  = [1,2,3,4]\n",
    "print(\"Original list is\",l)\n",
    "print(\"Call by reference alters list to\",fun(l))\n",
    "\n",
    "\n",
    "def fun1(l2):\n",
    "    print('Before doing anything, list is::',l2)\n",
    "    l2 = [100,200,300,400,500]\n",
    "    print(\"After assigning new values, list is::\",l2)\n",
    "\n",
    "l  = [1,2,3,4]\n",
    "print(\"\\n Original list is\",l)\n",
    "fun1(l)\n",
    "print(\"After calling function, list is::\",l)"
   ]
  },
  {
   "cell_type": "code",
   "execution_count": null,
   "id": "3c6f710e",
   "metadata": {},
   "outputs": [],
   "source": [
    "#  What is the concept of an unbalanced matrix?\n",
    "A matrix is balanced if all cells in the matrix are balanced and a cell of the matrix is balanced if the number of cells in that matrix that are adjacent to that cell is strictly greater than the value written in this cell. Adjacent cell means cells in the top, down, left, and right cell of each cell if it exists."
   ]
  },
  {
   "cell_type": "code",
   "execution_count": 7,
   "id": "676967e8",
   "metadata": {},
   "outputs": [
    {
     "data": {
      "text/plain": [
       "matrix([[1, 2, 3],\n",
       "        [4, 5, 6],\n",
       "        [7, 8, 9]])"
      ]
     },
     "execution_count": 7,
     "metadata": {},
     "output_type": "execute_result"
    }
   ],
   "source": [
    "import numpy as np\n",
    "\n",
    "mat = np.matrix([[1, 2, 3],[4, 5, 6],[7, 8, 9]])\n",
    "mat \n",
    "\n",
    "# This is unbalanced matrix"
   ]
  },
  {
   "cell_type": "code",
   "execution_count": null,
   "id": "101669d0",
   "metadata": {},
   "outputs": [],
   "source": [
    "# Why is it necessary to use either list comprehension or a loop to create arbitrarily large matrices?\n",
    "In Python 3, we can use numpy library to create large matrices instaed of list comprehension or a loop."
   ]
  }
 ],
 "metadata": {
  "kernelspec": {
   "display_name": "Python 3 (ipykernel)",
   "language": "python",
   "name": "python3"
  },
  "language_info": {
   "codemirror_mode": {
    "name": "ipython",
    "version": 3
   },
   "file_extension": ".py",
   "mimetype": "text/x-python",
   "name": "python",
   "nbconvert_exporter": "python",
   "pygments_lexer": "ipython3",
   "version": "3.9.7"
  }
 },
 "nbformat": 4,
 "nbformat_minor": 5
}
