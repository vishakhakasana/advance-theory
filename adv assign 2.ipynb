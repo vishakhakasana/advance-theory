{
 "cells": [
  {
   "cell_type": "code",
   "execution_count": null,
   "id": "a4dbf24f",
   "metadata": {},
   "outputs": [],
   "source": [
    "#  What is the relationship between classes and modules?\n",
    "Modules are about providing methods that you can use across multiple classes. Modules are about functions. You dont instantiate modules(e.g. Math module) you just use methods in them.Module is like library of methods. \n",
    "Classes are about objects; it can hold its state (by keeping track of instance variables) and be duplicated as many times as you want. "
   ]
  },
  {
   "cell_type": "code",
   "execution_count": null,
   "id": "11d8e6ec",
   "metadata": {},
   "outputs": [],
   "source": [
    "#How do you make instances and classes?\n",
    "To create instances of a class, you call the class using class name and pass in whatever arguments its init method accepts.\n",
    "\n",
    "The class statement creates a new class definition. The name of the class immediately follows the keyword class followed by a colon.Explained below  "
   ]
  },
  {
   "cell_type": "code",
   "execution_count": 1,
   "id": "2dffe219",
   "metadata": {},
   "outputs": [
    {
     "name": "stdout",
     "output_type": "stream",
     "text": [
      "This is Akash Deep (an instance of a class Student)\n"
     ]
    }
   ],
   "source": [
    "class Student:\n",
    "    def __init__(self,name):\n",
    "        self.name = name\n",
    "    \n",
    "    def __str__(self):\n",
    "        return f\"This is {self.name} (an instance of a class Student)\"\n",
    "    \n",
    "student1 = Student(\"Akash Deep\")       \n",
    "print(student1)"
   ]
  },
  {
   "cell_type": "code",
   "execution_count": null,
   "id": "63460f3c",
   "metadata": {},
   "outputs": [],
   "source": [
    "# Where and how should be class attributes created?\n",
    "Class attributes belong to the class itself they will be shared by all the instances. Such attributes are defined in the class body parts usually at the top, for legibility"
   ]
  },
  {
   "cell_type": "code",
   "execution_count": 2,
   "id": "7ba6bfb5",
   "metadata": {},
   "outputs": [
    {
     "name": "stdout",
     "output_type": "stream",
     "text": [
      "Johnson\n"
     ]
    }
   ],
   "source": [
    "class Student:\n",
    "    class_teacher = 'Johnson' # class attribute\n",
    "    \n",
    "    def __init__(self,name, roll_no): # to bind attributes to class when object is created\n",
    "        self.name = name \n",
    "        self.roll_no = roll_no\n",
    "    \n",
    "    def __str__(self):\n",
    "        return f\"This is {self.name} (an instance of a class Student)\"\n",
    "    \n",
    "student1 = Student(\"Akash Deep\",25)  \n",
    "\n",
    "print(student1.class_teacher) "
   ]
  },
  {
   "cell_type": "code",
   "execution_count": null,
   "id": "9af5e04c",
   "metadata": {},
   "outputs": [],
   "source": [
    "# Where and how are instance attributes created?\n",
    "Unlike class attributes, instance attributes are not shared by objects. Every object has its own copy of the instance attribute. They are created in init method. How they are created is Explained below:: "
   ]
  },
  {
   "cell_type": "code",
   "execution_count": 4,
   "id": "930f72de",
   "metadata": {},
   "outputs": [
    {
     "name": "stdout",
     "output_type": "stream",
     "text": [
      "Akash Deep\n",
      "25\n"
     ]
    }
   ],
   "source": [
    "class Student:\n",
    "    def __init__(self,name, roll_no): # to bind attributes to class when object is created\n",
    "        self.name = name \n",
    "        self.roll_no = roll_no\n",
    "    \n",
    "    def __str__(self):\n",
    "        return f\"This is {self.name} (an instance of a class Student)\"\n",
    "    \n",
    "student1 = Student(\"Akash Deep\",25)  \n",
    "\n",
    "print(student1.name) # attributes are accessed by objects\n",
    "print(student1.roll_no)"
   ]
  },
  {
   "cell_type": "code",
   "execution_count": null,
   "id": "20855b18",
   "metadata": {},
   "outputs": [],
   "source": [
    "#What does the term \"self\" in a Python class mean?\n",
    "Self represents the instance of the class. By using the “self” keyword we can access the attributes and methods of the class in python. It binds the attributes with the given arguments.The reason you need to use self. is because Python does not use the @ syntax to refer to instance attributes. Python decided to do methods in a way that makes the instance to which the method belongs be passed automatically, but not received automatically: the first parameter of methods is the instance the method is called on."
   ]
  },
  {
   "cell_type": "code",
   "execution_count": null,
   "id": "b177ece9",
   "metadata": {},
   "outputs": [],
   "source": [
    "# 6. How does a Python class handle operator overloading?\n",
    "Operator Overloading means giving extended meaning beyond their predefined operational meaning. For example operator + is used to add two integers as well as join two strings and merge two lists. It is achievable because ‘+’ operator is overloaded by int class and str class."
   ]
  },
  {
   "cell_type": "code",
   "execution_count": 3,
   "id": "0f46540a",
   "metadata": {},
   "outputs": [
    {
     "name": "stdout",
     "output_type": "stream",
     "text": [
      "3\n",
      "abcdefg\n",
      "39\n",
      "IneuronIneuronIneuronIneuron\n"
     ]
    }
   ],
   "source": [
    "# + and * operator is used for different purpose\n",
    "\n",
    "print(1 + 2)\n",
    " \n",
    "# concatenate two strings\n",
    "print(\"abcd\"+\"efg\")\n",
    " \n",
    "# Product two numbers\n",
    "print(13 * 3)\n",
    " \n",
    "# Repeat the String\n",
    "print(\"Ineuron\"*4)"
   ]
  },
  {
   "cell_type": "code",
   "execution_count": null,
   "id": "60a1009a",
   "metadata": {},
   "outputs": [],
   "source": [
    "# When do you consider allowing operator overloading of your classes?\n",
    "Let us assumewe have an object called string1 which is a string object as defined below. Now, when we try to add a string to this string object, the compiler will throw an error. This is because the compiler doesn't know how to add them."
   ]
  },
  {
   "cell_type": "code",
   "execution_count": 5,
   "id": "d49990da",
   "metadata": {},
   "outputs": [
    {
     "name": "stdout",
     "output_type": "stream",
     "text": [
      "Hello world\n"
     ]
    }
   ],
   "source": [
    "# declare our own string class\n",
    "class String:\n",
    "    def __init__(self, string):\n",
    "            self.string = string         \n",
    "                \n",
    "    def __add__(self, other):\n",
    "          return self.string + other\n",
    "            \n",
    "    def __repr__(self):\n",
    "        return 'Object: {}'.format(self.string)\n",
    "\n",
    "string1 = String('Hello')    \n",
    "\n",
    "# concatenate String object and a string\n",
    "print(string1 +' world') "
   ]
  },
  {
   "cell_type": "code",
   "execution_count": null,
   "id": "86444c62",
   "metadata": {},
   "outputs": [],
   "source": [
    "#What is the most popular form of operator overloading?\n",
    "I feel, most popular form of operator overloading is of addition (+) operator. When two integers are passed to + operator, it will return the sum of two integers. When two strings are passed to + operator, it will return concatenation of two strings."
   ]
  },
  {
   "cell_type": "code",
   "execution_count": null,
   "id": "df095e66",
   "metadata": {},
   "outputs": [],
   "source": [
    "# What are the two most important concepts to grasp in order to comprehend Python OOP code?\n",
    "Inheritance.\n",
    "Polymorphism."
   ]
  }
 ],
 "metadata": {
  "kernelspec": {
   "display_name": "Python 3 (ipykernel)",
   "language": "python",
   "name": "python3"
  },
  "language_info": {
   "codemirror_mode": {
    "name": "ipython",
    "version": 3
   },
   "file_extension": ".py",
   "mimetype": "text/x-python",
   "name": "python",
   "nbconvert_exporter": "python",
   "pygments_lexer": "ipython3",
   "version": "3.9.7"
  }
 },
 "nbformat": 4,
 "nbformat_minor": 5
}
