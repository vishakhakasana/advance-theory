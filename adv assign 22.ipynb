{
 "cells": [
  {
   "cell_type": "code",
   "execution_count": null,
   "id": "e0e05a20",
   "metadata": {},
   "outputs": [],
   "source": [
    "# What are the three logarithmic functions that Python supports?\n",
    "# Ans : 1)log2(x) - logarithmic value of x to base 2\n",
    "#       2)log10(x) - logarithmic value of x to base 10\n",
    "#       3)log(x,base) - logarithmic value of x to base. If only first parameter is given , it computes its\n",
    "#       value tp base e,natural logarithm\n",
    "#       4)log1p(x) - natural logarithm (base e) value of 1+x"
   ]
  },
  {
   "cell_type": "code",
   "execution_count": null,
   "id": "0582d73e",
   "metadata": {},
   "outputs": [],
   "source": [
    "# What are some of the array package's limitations?\n",
    "# Ans : The number of elements to be stored in an array should be known in advance. An array is a static structure \n",
    "#      (which means the array is of fixed size). Once declared the size of the array cannot be modified. The memory \n",
    "#       which is allocated to it cannot be increased or decreased. Insertion and deletion are quite difficult in an \n",
    "#       array as the elements are stored in consecutive memory locations and the shifting operation is costly. \n",
    "#       Allocating more memory than the requirement leads to wastage of memory space and less allocation of memory \n",
    "#       also leads to a problem."
   ]
  },
  {
   "cell_type": "code",
   "execution_count": null,
   "id": "62092190",
   "metadata": {},
   "outputs": [],
   "source": [
    "#  Describe the main differences between the array and numpy packages.\n",
    "# Ans : The array package doesn't provide any help with numerical calculation with the items insdie it in number form \n",
    "#       while NumPy give you a wide variety of numerical operations. An array is a single dimensional entity which hold\n",
    "#       the numerical data, while numpy can have more than 1 dimension.In case of array, item can be accessed by its\n",
    "#       index position and it is easy task while in numpy item is accessed by its column and row index, which makes \n",
    "#       it slightly time taking. Same goes with appending operation.In case of array we do not form a tabular \n",
    "#       structure, while in numpy it forms a tabular structure."
   ]
  },
  {
   "cell_type": "code",
   "execution_count": null,
   "id": "8d808317",
   "metadata": {},
   "outputs": [],
   "source": [
    "# Explain the distinctions between the empty, ones, and zeros functions.\n",
    "# Ans : Empty function: An empty function is a function that does not contain any statement within its body. If you \n",
    "#       try to write a function definition without any statement in python ,it will return an error. To avoid this,\n",
    "#       we use pass statement. pass is a special statement in Python that does nothing. It only works as a dummy \n",
    "#       statement ones: This function returns a new array of given shape and data type, where the element’s value is 1.\n",
    "#       zeros: This function returns a new array of given shape and data type, where the element’s value is 0"
   ]
  },
  {
   "cell_type": "code",
   "execution_count": null,
   "id": "d8aef47b",
   "metadata": {},
   "outputs": [],
   "source": [
    "# In the fromfunction function, which is used to construct new arrays, what is the role of the callable argument?\n",
    "# Ans : Its function is to execute the function over each coordinate and the resulting array. The function is called\n",
    "#       with N parameters, where N is the rank of shape. Each parameter represents the coordinates of the array \n",
    "#       varying along a specific axis."
   ]
  },
  {
   "cell_type": "code",
   "execution_count": 1,
   "id": "8902134f",
   "metadata": {},
   "outputs": [
    {
     "name": "stdout",
     "output_type": "stream",
     "text": [
      "[[0 1 2]\n",
      " [3 4 5]\n",
      " [6 7 8]]\n",
      "\n",
      "[[1 2 3]\n",
      " [4 5 6]\n",
      " [7 8 9]]\n"
     ]
    }
   ],
   "source": [
    "# What happens when a numpy array is combined with a single-value operand (a scalar, such as an int or a floating-point value) through addition, as in the expression A + n?\n",
    "# Ans : If any scaler value such as integer is added to the numpy array then all the elements inside the array \n",
    "#       will add that value in it.\n",
    "#       Example :\n",
    "import numpy as np\n",
    "a=np.arange(9).reshape(3,3)\n",
    "print(a)\n",
    "print()\n",
    "print(a+1)"
   ]
  },
  {
   "cell_type": "code",
   "execution_count": null,
   "id": "96995d72",
   "metadata": {},
   "outputs": [],
   "source": [
    "# Can array-to-scalar operations use combined operation-assign operators (such as += or *=)? What is the outcome?\n",
    "# Ans : It will do the operation as per operators. Like if we use + operand it will update the current array by adding \n",
    "#       and when we use '*', it will update by multiplying."
   ]
  },
  {
   "cell_type": "code",
   "execution_count": 2,
   "id": "9572ac50",
   "metadata": {},
   "outputs": [
    {
     "name": "stdout",
     "output_type": "stream",
     "text": [
      "[[0 1 2]\n",
      " [3 4 5]\n",
      " [6 7 8]]\n"
     ]
    }
   ],
   "source": [
    "#      Example :\n",
    "print(a)"
   ]
  },
  {
   "cell_type": "code",
   "execution_count": 3,
   "id": "37d66256",
   "metadata": {},
   "outputs": [
    {
     "name": "stdout",
     "output_type": "stream",
     "text": [
      "[[1 2 3]\n",
      " [4 5 6]\n",
      " [7 8 9]]\n"
     ]
    }
   ],
   "source": [
    "a+=1\n",
    "print(a)"
   ]
  },
  {
   "cell_type": "code",
   "execution_count": 4,
   "id": "8840c260",
   "metadata": {},
   "outputs": [
    {
     "name": "stdout",
     "output_type": "stream",
     "text": [
      "[[ 2  4  6]\n",
      " [ 8 10 12]\n",
      " [14 16 18]]\n"
     ]
    }
   ],
   "source": [
    "a*=2\n",
    "print(a)"
   ]
  },
  {
   "cell_type": "code",
   "execution_count": 5,
   "id": "74662be3",
   "metadata": {},
   "outputs": [
    {
     "data": {
      "text/plain": [
       "array(['ram', 'mohan', 'shiva'], dtype='<U5')"
      ]
     },
     "execution_count": 5,
     "metadata": {},
     "output_type": "execute_result"
    }
   ],
   "source": [
    "# Does a numpy array contain fixed-length strings? What happens if you allocate a longer string to one of these arrays?\n",
    "# Ans : Yes it is possible that we can include a string of fixed length in numpy array. The dtype of any numpy array \n",
    "#       containing string values is the maximum length of any string present in the array.\n",
    "#       Once set, it will only be able to store new string having length not more than the maximum length at the time \n",
    "#       of the creation. If we try to reassign some another string value having length greater than the maximum length\n",
    "#       of the existing elements, it simply discards all the values beyond the maximum length accept upto those values \n",
    "#       which are under the limit.\n",
    "import numpy as np\n",
    "name = np.array(['ram', 'mohan', 'shiva'])\n",
    "name"
   ]
  },
  {
   "cell_type": "code",
   "execution_count": 6,
   "id": "17ef4017",
   "metadata": {},
   "outputs": [
    {
     "data": {
      "text/plain": [
       "array([[ 2,  4,  6],\n",
       "       [ 8, 10, 12],\n",
       "       [14, 16, 18]])"
      ]
     },
     "execution_count": 6,
     "metadata": {},
     "output_type": "execute_result"
    }
   ],
   "source": [
    "#  What happens when you combine two numpy arrays using an operation like addition (+) or multiplication (*)? What are the conditions for combining two numpy arrays?\n",
    "# Ans : It will simply add or multiply element to element at same position.The only requirement which must be met are:\n",
    "#      1)Data type should be same.\n",
    "#      2) Shape of the two matrices must be same\n",
    "#      Example is as follows :\n",
    "a1=a\n",
    "a1"
   ]
  },
  {
   "cell_type": "code",
   "execution_count": 8,
   "id": "e9123a80",
   "metadata": {},
   "outputs": [
    {
     "data": {
      "text/plain": [
       "array([[ 4,  6,  8],\n",
       "       [10, 12, 14],\n",
       "       [16, 18, 20]])"
      ]
     },
     "execution_count": 8,
     "metadata": {},
     "output_type": "execute_result"
    }
   ],
   "source": [
    " a2=a+2\n",
    "a2"
   ]
  },
  {
   "cell_type": "code",
   "execution_count": 9,
   "id": "41095c4c",
   "metadata": {},
   "outputs": [
    {
     "data": {
      "text/plain": [
       "array([[ 6, 10, 14],\n",
       "       [18, 22, 26],\n",
       "       [30, 34, 38]])"
      ]
     },
     "execution_count": 9,
     "metadata": {},
     "output_type": "execute_result"
    }
   ],
   "source": [
    "a1+a2"
   ]
  },
  {
   "cell_type": "code",
   "execution_count": 10,
   "id": "549886e9",
   "metadata": {},
   "outputs": [
    {
     "data": {
      "text/plain": [
       "array([[  8,  24,  48],\n",
       "       [ 80, 120, 168],\n",
       "       [224, 288, 360]])"
      ]
     },
     "execution_count": 10,
     "metadata": {},
     "output_type": "execute_result"
    }
   ],
   "source": [
    "a1*a2"
   ]
  },
  {
   "cell_type": "code",
   "execution_count": 12,
   "id": "33fe64a2",
   "metadata": {},
   "outputs": [
    {
     "name": "stdout",
     "output_type": "stream",
     "text": [
      "[True, True, masked, masked]\n",
      "1\n"
     ]
    }
   ],
   "source": [
    "# What is the best way to use a Boolean array to mask another array?\n",
    "# Ans : \n",
    "y = np.array([True,True,False,True])          \n",
    "x = np.array([1,2,3,4])         \n",
    "m = np.ma.masked_where(x>2,y)  \n",
    "print(list(m))\n",
    "print(m.ndim)"
   ]
  },
  {
   "cell_type": "code",
   "execution_count": null,
   "id": "d7bae70d",
   "metadata": {},
   "outputs": [],
   "source": [
    "# What are three different ways to get the standard deviation of a wide collection of data using both standard Python and its packages? Sort the three of them by how quickly they execute.\n",
    "# Ans : Standard deviation can be calculated in amny ways. If wee see the formula of SD, it says \n",
    "#       std= Square Root of [ Summation of [square of (x-mean)/number of observation] ] .So this can be achive by:\n",
    "#       1)Using math module :\n",
    "import math\n",
    "N = 1\n",
    "avg=a\n",
    "total=N\n",
    "x=[1,2]\n",
    "SD=math.sqrt((1-a)**2+(2-a)**2/N)"
   ]
  },
  {
   "cell_type": "code",
   "execution_count": null,
   "id": "c8c519a4",
   "metadata": {},
   "outputs": [],
   "source": [
    "#       2)Using Numpy Array package\n",
    "import numpy as np\n",
    "SD=np.std(x)"
   ]
  },
  {
   "cell_type": "code",
   "execution_count": null,
   "id": "29169b35",
   "metadata": {},
   "outputs": [],
   "source": [
    "#       3) General calculation without using any package\n",
    "SD= (((1-avg)**2 + (2-avg)**2)/N)**1/2"
   ]
  }
 ],
 "metadata": {
  "kernelspec": {
   "display_name": "Python 3 (ipykernel)",
   "language": "python",
   "name": "python3"
  },
  "language_info": {
   "codemirror_mode": {
    "name": "ipython",
    "version": 3
   },
   "file_extension": ".py",
   "mimetype": "text/x-python",
   "name": "python",
   "nbconvert_exporter": "python",
   "pygments_lexer": "ipython3",
   "version": "3.9.7"
  }
 },
 "nbformat": 4,
 "nbformat_minor": 5
}
