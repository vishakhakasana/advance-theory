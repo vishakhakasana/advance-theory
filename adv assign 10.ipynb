{
 "cells": [
  {
   "cell_type": "code",
   "execution_count": null,
   "id": "4aa11a97",
   "metadata": {},
   "outputs": [],
   "source": [
    "# What is the difference between getattr and getattribute?\n",
    "Normally, if we want to access the attribute of a class, we access it with instance of the class like instance.attribute_name. These attributes are already present in the class. Where as, to access the attribute of class which are not defined in the class, we use getattr() method.\n",
    "\n",
    "But if the attribute does exist, getattr won’t be invoked"
   ]
  },
  {
   "cell_type": "code",
   "execution_count": 1,
   "id": "4439d02d",
   "metadata": {},
   "outputs": [
    {
     "name": "stdout",
     "output_type": "stream",
     "text": [
      "Banglore\n",
      "abcd\n"
     ]
    }
   ],
   "source": [
    "class Sample:\n",
    "    def __init__(self,address):\n",
    "        self.address = address\n",
    "    \n",
    "    def __getattr__(self,name):\n",
    "        return name.lower()\n",
    "    \n",
    "s =Sample('Banglore')\n",
    "print(s.address) # existing attribute\n",
    "print(s.ABCD) # ABCD is non defined in class"
   ]
  },
  {
   "cell_type": "code",
   "execution_count": 2,
   "id": "3c09924d",
   "metadata": {},
   "outputs": [
    {
     "name": "stdout",
     "output_type": "stream",
     "text": [
      "New Value\n"
     ]
    }
   ],
   "source": [
    "class Dummy():\n",
    "\n",
    "    def __getattribute__(self, attr):\n",
    "        return 'New Value'\n",
    "\n",
    "d = Dummy()\n",
    "d.value = \"Old value\"\n",
    "print(d.value)  # \"YOU SEE ME?\""
   ]
  },
  {
   "cell_type": "code",
   "execution_count": null,
   "id": "9cd0785c",
   "metadata": {},
   "outputs": [],
   "source": [
    "# What is the difference between properties and descriptors?\n",
    "In Properties, We can bind getter, setter functions with an attribute name, using the built-in property function. In descriptor, We can bind getter, setter (and deleter) functions into a separate class.\n",
    "We then assign an object of this class to the attribute name."
   ]
  },
  {
   "cell_type": "code",
   "execution_count": null,
   "id": "7def892b",
   "metadata": {},
   "outputs": [],
   "source": [
    "# What are the key differences in functionality between getattr and getattribute, as well as properties and descriptors?\n",
    "To access the attribute of class which are not defined in the class, we use getattr() method. But if the attribute does exist, getattr won’t be invoked. getattribute will look for every attribute, doesn’t matter if the attribute exists or not.\n",
    "\n",
    "In Properties, We can bind getter, setter functions with an attribute name, using the built-in property function. In descriptor, We can bind getter, setter (and deleter) functions into a separate class. We then assign an object of this class to the attribute name."
   ]
  }
 ],
 "metadata": {
  "kernelspec": {
   "display_name": "Python 3 (ipykernel)",
   "language": "python",
   "name": "python3"
  },
  "language_info": {
   "codemirror_mode": {
    "name": "ipython",
    "version": 3
   },
   "file_extension": ".py",
   "mimetype": "text/x-python",
   "name": "python",
   "nbconvert_exporter": "python",
   "pygments_lexer": "ipython3",
   "version": "3.9.7"
  }
 },
 "nbformat": 4,
 "nbformat_minor": 5
}
