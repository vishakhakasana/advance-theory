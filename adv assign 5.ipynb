{
 "cells": [
  {
   "cell_type": "code",
   "execution_count": null,
   "id": "dd88e15a",
   "metadata": {},
   "outputs": [],
   "source": [
    "# What is the meaning of multiple inheritance?\n",
    "When a class is derived from more than one base class it is called multiple Inheritance.\n",
    "The derived class inherits all the features of the base case."
   ]
  },
  {
   "cell_type": "code",
   "execution_count": null,
   "id": "b4ef0882",
   "metadata": {},
   "outputs": [],
   "source": [
    "# What is the concept of delegation?\n",
    "Delegation is an object oriented technique (also called a design pattern). Let's say you have an object x and want to change the behaviour of just one of its methods. You can create a new class that provides a new implementation of the method you're interested in changing and delegates all other methods to the corresponding method of x.\n",
    "\n",
    "The delegation is accomplished via the getattr method; consult the language reference for more information about controlling attribute access."
   ]
  },
  {
   "cell_type": "code",
   "execution_count": null,
   "id": "209c42bb",
   "metadata": {},
   "outputs": [],
   "source": [
    "# What is the concept of composition?\n",
    "It is one of the fundamental concepts of Object-Oriented Programming. A class that references to one or more objects of other classes as an Instance variable. Here, by using the class name or by creating the object we can access the members of one class inside another class. It enables creating complex types by combining objects of different classes. It means that a class Composite can contain an object of another class Component. This type of relationship is known as Has-A Relation"
   ]
  },
  {
   "cell_type": "code",
   "execution_count": null,
   "id": "9e2fd712",
   "metadata": {},
   "outputs": [],
   "source": [
    "# What are bound methods and how do we use them?\n",
    "A bound method is the one which is dependent on the instance of the class as the first argument. It passes the instance as the first argument which is used to access the variables and functions. All functions in the class are by default bound methods."
   ]
  },
  {
   "cell_type": "code",
   "execution_count": 1,
   "id": "0a11d773",
   "metadata": {},
   "outputs": [
    {
     "name": "stdout",
     "output_type": "stream",
     "text": [
      "<bound method Sample.fun of <__main__.Sample object at 0x000001A975728790>>\n"
     ]
    }
   ],
   "source": [
    "class Sample:\n",
    "    def fun(self, some_value):\n",
    "        self.some_value = some_value\n",
    "    \n",
    "s = Sample()\n",
    "\n",
    "print(s.fun)"
   ]
  },
  {
   "cell_type": "code",
   "execution_count": null,
   "id": "3a10e858",
   "metadata": {},
   "outputs": [],
   "source": [
    "# What is the purpose of pseudoprivate attributes?\n",
    "In Python, there is no concept of \"private\" as such. When naming properties and methods at the level, some special processing is actually done to the name, making it inaccessible to the outside world.\n",
    "\n"
   ]
  },
  {
   "cell_type": "code",
   "execution_count": 2,
   "id": "6b338beb",
   "metadata": {},
   "outputs": [
    {
     "name": "stdout",
     "output_type": "stream",
     "text": [
      "1\n",
      "2\n",
      "4\n"
     ]
    }
   ],
   "source": [
    "class Test:\n",
    "    def __init__(self, a, b, c, d):\n",
    "        self.__a = a # __ means pseudo private variable\n",
    "        self.b = b\n",
    "        self.c = c\n",
    "        self.d = d\n",
    "\n",
    "    def custom(self, v):\n",
    "        return v - self.__a\n",
    "\n",
    "t = Test(1,2,3,4)    \n",
    "print(t._Test__a) # this is the way to access Pseudo private  attribute\n",
    "print(t.b)\n",
    "print(t.custom(5))"
   ]
  }
 ],
 "metadata": {
  "kernelspec": {
   "display_name": "Python 3 (ipykernel)",
   "language": "python",
   "name": "python3"
  },
  "language_info": {
   "codemirror_mode": {
    "name": "ipython",
    "version": 3
   },
   "file_extension": ".py",
   "mimetype": "text/x-python",
   "name": "python",
   "nbconvert_exporter": "python",
   "pygments_lexer": "ipython3",
   "version": "3.9.7"
  }
 },
 "nbformat": 4,
 "nbformat_minor": 5
}
