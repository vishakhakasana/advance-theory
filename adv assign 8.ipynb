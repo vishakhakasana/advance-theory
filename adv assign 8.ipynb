{
 "cells": [
  {
   "cell_type": "code",
   "execution_count": null,
   "id": "b575ba57",
   "metadata": {},
   "outputs": [],
   "source": [
    "# What are the two latest user-defined exception constraints in Python 3.X?\n",
    "raise statement - This is used to raise an inbuilt exception explicitly.\n",
    "assert statement - when condition in assert statement is true, program is executed normally. \n",
    "When condition is false, program gives an AssertionError."
   ]
  },
  {
   "cell_type": "code",
   "execution_count": null,
   "id": "71555ece",
   "metadata": {},
   "outputs": [],
   "source": [
    "# How are class-based exceptions that have been raised matched to handlers?\n",
    "When exceptions are raised, then the exception is handled by the same class mentioned in except statement or its base classes.\n",
    "\"Exception\" is the base class(Superclass) for all other exception classes."
   ]
  },
  {
   "cell_type": "code",
   "execution_count": null,
   "id": "32f9398d",
   "metadata": {},
   "outputs": [],
   "source": [
    "# Describe two methods for attaching context information to exception artefacts.\n",
    "By using logging.exception() method, we can log log messages with level ERROR on the logger. \n",
    "I will store the information like type of error, line number, file name and path.\n",
    "By using raise keyword. It will also display Traceback of the recent exception raised."
   ]
  },
  {
   "cell_type": "code",
   "execution_count": null,
   "id": "db9e9216",
   "metadata": {},
   "outputs": [],
   "source": [
    "# Describe two methods for specifying the text of an exception object's error message.\n",
    "1.We can print the text of an exception, by using the object of an Exception class. We can access different attributes like messgae, args, traceback from that object.\n",
    "2.By using logging.error() method"
   ]
  },
  {
   "cell_type": "code",
   "execution_count": 1,
   "id": "1f981b0a",
   "metadata": {},
   "outputs": [
    {
     "name": "stdout",
     "output_type": "stream",
     "text": [
      "can only concatenate str (not \"int\") to str\n"
     ]
    }
   ],
   "source": [
    "try:\n",
    "    a = 'abc'\n",
    "    b = 2    \n",
    "    c = a+b\n",
    "except TypeError as e:\n",
    "    print(e)"
   ]
  },
  {
   "cell_type": "code",
   "execution_count": null,
   "id": "93c69a34",
   "metadata": {},
   "outputs": [],
   "source": [
    "try:\n",
    "    file = open('one.txt','r')\n",
    "except Exception as e:\n",
    "    logging.error(e)"
   ]
  },
  {
   "cell_type": "code",
   "execution_count": null,
   "id": "9f20a317",
   "metadata": {},
   "outputs": [],
   "source": [
    "# Why do you no longer use string-based exceptions?\n",
    "In Python versions 1.5 and earlier, Exceptions were strings and not classes. Now all exceptions are classes, \n",
    "derived from the superclass BaseException. \n",
    "With classes it is more efficiently handled as classes have many useful features."
   ]
  }
 ],
 "metadata": {
  "kernelspec": {
   "display_name": "Python 3 (ipykernel)",
   "language": "python",
   "name": "python3"
  },
  "language_info": {
   "codemirror_mode": {
    "name": "ipython",
    "version": 3
   },
   "file_extension": ".py",
   "mimetype": "text/x-python",
   "name": "python",
   "nbconvert_exporter": "python",
   "pygments_lexer": "ipython3",
   "version": "3.9.7"
  }
 },
 "nbformat": 4,
 "nbformat_minor": 5
}
